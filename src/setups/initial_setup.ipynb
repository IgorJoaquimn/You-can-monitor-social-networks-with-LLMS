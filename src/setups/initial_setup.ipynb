{
 "cells": [
  {
   "cell_type": "code",
   "execution_count": 14,
   "metadata": {},
   "outputs": [],
   "source": [
    "from langchain.llms import Ollama\n",
    "from langchain.callbacks.manager import CallbackManager\n",
    "from langchain.callbacks.streaming_stdout import StreamingStdOutCallbackHandler"
   ]
  },
  {
   "cell_type": "code",
   "execution_count": 15,
   "metadata": {},
   "outputs": [],
   "source": [
    "llma = Ollama(model=\"gemma:2b\",\n",
    "              callback_manager = CallbackManager([StreamingStdOutCallbackHandler]))"
   ]
  },
  {
   "cell_type": "code",
   "execution_count": 16,
   "metadata": {},
   "outputs": [
    {
     "data": {
      "text/plain": [
       "'1. The Greek Empire was one of the largest and most powerful empires in history, stretching from the Nile River in the west to the Asian continent in the east.\\n\\n2. The empire was founded by Alexander the Great in 326 BC and flourished until the late 4th century AD under Emperor Theodosius I.\\n\\n3. The Greeks were highly skilled in architecture, art, literature, and philosophy. They were also great inventors and engineers, and their contributions to these fields were profound.\\n\\n4. The Greek Empire was a major cultural and intellectual hub, and its influence spread throughout the Mediterranean region and beyond.\\n\\n5. The Greek Empire fell due to a combination of factors, including the Barbarian invasions of the 5th and 6th centuries AD, the rise of the Roman Empire, and internal economic and political problems.'"
      ]
     },
     "execution_count": 16,
     "metadata": {},
     "output_type": "execute_result"
    }
   ],
   "source": [
    "llma.invoke(\"Tell me 5 facts about the greek empire\")"
   ]
  }
 ],
 "metadata": {
  "kernelspec": {
   "display_name": "llm",
   "language": "python",
   "name": "python3"
  },
  "language_info": {
   "codemirror_mode": {
    "name": "ipython",
    "version": 3
   },
   "file_extension": ".py",
   "mimetype": "text/x-python",
   "name": "python",
   "nbconvert_exporter": "python",
   "pygments_lexer": "ipython3",
   "version": "3.12.2"
  }
 },
 "nbformat": 4,
 "nbformat_minor": 2
}
