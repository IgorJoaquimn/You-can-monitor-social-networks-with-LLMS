{
 "cells": [
  {
   "cell_type": "code",
   "execution_count": 18,
   "metadata": {},
   "outputs": [],
   "source": [
    "from langchain_community.vectorstores import Chroma\n",
    "from langchain_community.embeddings import OllamaEmbeddings\n",
    "\n",
    "from langchain.text_splitter import RecursiveCharacterTextSplitter\n",
    "from langchain.document_loaders import DirectoryLoader"
   ]
  },
  {
   "cell_type": "markdown",
   "metadata": {},
   "source": [
    "Embedding layer"
   ]
  },
  {
   "cell_type": "code",
   "execution_count": 19,
   "metadata": {},
   "outputs": [],
   "source": [
    "embedding_function = OllamaEmbeddings(model=\"gemma:2b\")"
   ]
  },
  {
   "cell_type": "markdown",
   "metadata": {},
   "source": [
    "Read the document file"
   ]
  },
  {
   "cell_type": "code",
   "execution_count": 20,
   "metadata": {},
   "outputs": [
    {
     "data": {
      "text/plain": [
       "[Document(page_content='Lorem ipsum dolor sit amet, consectetur adipiscing elit, sed do eiusmod tempor incididunt ut labore et dolore magna aliqua. Volutpat diam ut venenatis tellus in metus vulputate eu. Vel risus commodo viverra maecenas accumsan lacus vel facilisis. Facilisi etiam dignissim diam quis enim. Condimentum vitae sapien pellentesque habitant. Condimentum mattis pellentesque id nibh tortor. Ut morbi tincidunt augue interdum. Ultrices mi tempus imperdiet nulla. Adipiscing elit duis tristique sollicitudin nibh sit. Augue eget arcu dictum varius duis at consectetur lorem donec. Etiam dignissim diam quis enim lobortis scelerisque fermentum. Etiam tempor orci eu lobortis. Lacinia at quis risus sed.', metadata={'source': '../documents/example.txt'}),\n",
       " Document(page_content='Parturient montes nascetur ridiculus mus mauris vitae ultricies leo. Malesuada bibendum arcu vitae elementum curabitur vitae nunc. Purus semper eget duis at tellus at urna. Odio pellentesque diam volutpat commodo sed. Ipsum dolor sit amet consectetur. Fringilla urna porttitor rhoncus dolor purus non enim. Ipsum faucibus vitae aliquet nec ullamcorper. Augue mauris augue neque gravida in fermentum. Porttitor eget dolor morbi non arcu risus. Urna duis convallis convallis tellus. Id leo in vitae turpis massa sed elementum tempus egestas. Cum sociis natoque penatibus et. Porta lorem mollis aliquam ut porttitor leo a diam sollicitudin. Sit amet mauris commodo quis imperdiet massa tincidunt.', metadata={'source': '../documents/example.txt'})]"
      ]
     },
     "execution_count": 20,
     "metadata": {},
     "output_type": "execute_result"
    }
   ],
   "source": [
    "document = DirectoryLoader(\"../documents/\",glob=\"**/*.txt\").load()\n",
    "splitter = RecursiveCharacterTextSplitter(chunk_size=1000, chunk_overlap=200)\n",
    "document = splitter.split_documents(document)\n",
    "document[:2]"
   ]
  },
  {
   "cell_type": "markdown",
   "metadata": {},
   "source": [
    "Vectorize and Store"
   ]
  },
  {
   "cell_type": "code",
   "execution_count": 21,
   "metadata": {},
   "outputs": [],
   "source": [
    "# save to disk\n",
    "db2 = Chroma.from_documents(document, embedding_function, persist_directory=\"../chroma_db\")\n",
    "\n",
    "# load from disk\n",
    "# db3 = Chroma(persist_directory=\"../chroma_db\", embedding_function=embedding_function)"
   ]
  },
  {
   "cell_type": "code",
   "execution_count": 22,
   "metadata": {},
   "outputs": [],
   "source": [
    "!conda list --export > ../requirements.txt"
   ]
  }
 ],
 "metadata": {
  "kernelspec": {
   "display_name": "llm",
   "language": "python",
   "name": "python3"
  },
  "language_info": {
   "codemirror_mode": {
    "name": "ipython",
    "version": 3
   },
   "file_extension": ".py",
   "mimetype": "text/x-python",
   "name": "python",
   "nbconvert_exporter": "python",
   "pygments_lexer": "ipython3",
   "version": "3.12.2"
  }
 },
 "nbformat": 4,
 "nbformat_minor": 2
}
